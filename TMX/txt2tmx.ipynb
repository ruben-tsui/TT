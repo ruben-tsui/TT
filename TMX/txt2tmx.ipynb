{
 "cells": [
  {
   "cell_type": "markdown",
   "metadata": {},
   "source": [
    "## Convert Moses-formatted parallel text files into TMX (Translation Memeory eXchange) format "
   ]
  },
  {
   "cell_type": "markdown",
   "metadata": {},
   "source": [
    "### Input files must be in the format\n",
    "#### test.en, test.zh"
   ]
  },
  {
   "cell_type": "code",
   "execution_count": 37,
   "metadata": {},
   "outputs": [
    {
     "name": "stdout",
     "output_type": "stream",
     "text": [
      "Base file name = test\n",
      "processing 1 files...\n",
      "[###########################################] 100%\n",
      "   10 test.en\n",
      "   10 test.zh\n",
      "   30 test.po\n",
      "   87 test.tmx\n",
      "  137 total\n",
      "CPU times: user 10.6 ms, sys: 32.6 ms, total: 43.2 ms\n",
      "Wall time: 2.19 s\n"
     ]
    }
   ],
   "source": [
    "%%time\n",
    "base        = 'test'\n",
    "lang_src    = 'en'  # source language\n",
    "lang_tgt    = 'zh'  # target language\n",
    "infile_src  = f'{base}.{lang_src}'\n",
    "infile_tgt  = f'{base}.{lang_tgt}'\n",
    "po_file     = f'{base}.po'\n",
    "tmx_file    = f'{base}.tmx'\n",
    "# converts base.src and base.tgt into base.po\n",
    "!python bitext2po.py $infile_src $infile_tgt $po_file \n",
    "# converts base.po into base.tmx\n",
    "!po2tmx --source-language=$lang_src --language=$lang_tgt -i $po_file -o $tmx_file\n",
    "# count the numbers of lines of various input and output files\n",
    "!wc -l $infile_src $infile_tgt $po_file $tmx_file"
   ]
  },
  {
   "cell_type": "code",
   "execution_count": null,
   "metadata": {},
   "outputs": [],
   "source": []
  }
 ],
 "metadata": {
  "kernelspec": {
   "display_name": "Python 3",
   "language": "python",
   "name": "python3"
  },
  "language_info": {
   "codemirror_mode": {
    "name": "ipython",
    "version": 3
   },
   "file_extension": ".py",
   "mimetype": "text/x-python",
   "name": "python",
   "nbconvert_exporter": "python",
   "pygments_lexer": "ipython3",
   "version": "3.7.6"
  }
 },
 "nbformat": 4,
 "nbformat_minor": 4
}
