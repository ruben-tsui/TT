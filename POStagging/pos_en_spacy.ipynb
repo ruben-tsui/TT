{
 "cells": [
  {
   "cell_type": "markdown",
   "metadata": {},
   "source": [
    "### POS-tagging English texts with spaCy "
   ]
  },
  {
   "cell_type": "code",
   "execution_count": null,
   "metadata": {},
   "outputs": [],
   "source": [
    "import spacy"
   ]
  },
  {
   "cell_type": "markdown",
   "metadata": {},
   "source": [
    "#### Dowload and install model"
   ]
  },
  {
   "cell_type": "code",
   "execution_count": null,
   "metadata": {},
   "outputs": [],
   "source": [
    "%%time\n",
    "%%capture\n",
    "!python -m spacy download en_core_web_md"
   ]
  },
  {
   "cell_type": "code",
   "execution_count": null,
   "metadata": {},
   "outputs": [],
   "source": [
    "%%time\n",
    "import en_core_web_md\n",
    "nlp = en_core_web_md.load(disable=[\"ner\", \"parser\"])"
   ]
  },
  {
   "cell_type": "code",
   "execution_count": null,
   "metadata": {},
   "outputs": [],
   "source": [
    "%%time\n",
    "\n",
    "infile  = 'ROClaws20180424E.txt'\n",
    "outfile = 'ROClaws20180424E.pos.txt'\n",
    "\n",
    "infile  = 'AOGB.txt'\n",
    "outfile = 'AOGB.pos.txt'\n",
    "\n",
    "DELIM1 = '_' # delimiter that separates word and its POS tag\n",
    "DELIM2 = ' ' #  delimiter that separates each word_POStag pair from another\n",
    "\n",
    "cnt = 0\n",
    "with open(outfile, 'w', encoding='utf8', newline='\\n') as fo:\n",
    "    with open(infile, 'r', encoding='utf8') as fi:\n",
    "        for line in fi:\n",
    "            cnt += 1\n",
    "            line = line.strip()\n",
    "            doc = nlp(line)\n",
    "            words_pos_list = [f\"{w.text}{DELIM1}{w.tag_}\" for w in doc]\n",
    "            line_out = DELIM2.join(words_pos_list)\n",
    "            #print(line_out)\n",
    "            fo.write(f\"{line_out}\\n\")\n",
    "            if cnt % 500 == 0:\n",
    "                print(f\"{cnt} lines processed...\")\n",
    "                fo.flush()\n"
   ]
  },
  {
   "cell_type": "code",
   "execution_count": null,
   "metadata": {},
   "outputs": [],
   "source": [
    "!wc -l \"$infile\" \"$outfile\""
   ]
  },
  {
   "cell_type": "code",
   "execution_count": null,
   "metadata": {},
   "outputs": [],
   "source": [
    "!egrep -o '\\w+_N\\w+( \\w+_N\\w+)+' \"$outfile\" | sed -E \"s/_\\w+//g\" | sort | uniq -c | sort -nr > noun_phrases.txt"
   ]
  },
  {
   "cell_type": "code",
   "execution_count": null,
   "metadata": {},
   "outputs": [],
   "source": []
  }
 ],
 "metadata": {
  "kernelspec": {
   "display_name": "Python 3",
   "language": "python",
   "name": "python3"
  },
  "language_info": {
   "codemirror_mode": {
    "name": "ipython",
    "version": 3
   },
   "file_extension": ".py",
   "mimetype": "text/x-python",
   "name": "python",
   "nbconvert_exporter": "python",
   "pygments_lexer": "ipython3",
   "version": "3.7.6"
  }
 },
 "nbformat": 4,
 "nbformat_minor": 4
}
