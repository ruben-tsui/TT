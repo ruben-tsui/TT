{
 "cells": [
  {
   "cell_type": "markdown",
   "metadata": {},
   "source": [
    "### Enter paths and names of input and outfile files below "
   ]
  },
  {
   "cell_type": "code",
   "execution_count": 7,
   "metadata": {},
   "outputs": [],
   "source": [
    "infile  = \"voa_news.zhs.txt\"\n",
    "outfile = \"voa_news.zht.txt\""
   ]
  },
  {
   "cell_type": "code",
   "execution_count": 8,
   "metadata": {},
   "outputs": [],
   "source": [
    "from opencc import OpenCC \n",
    "openCC = OpenCC('s2tw')  # convert from Simplified-to-Traditional"
   ]
  },
  {
   "cell_type": "code",
   "execution_count": 10,
   "metadata": {},
   "outputs": [],
   "source": [
    "%%time\n",
    "with open(outfile, \"w\", encoding=\"utf-8\", newline=\"\\n\") as fo:\n",
    "    with open(infile, \"r\", encoding=\"utf-8\") as fi:\n",
    "        for lines in fi:\n",
    "            linet = openCC.convert(lines.strip())\n",
    "            fo.write(f\"{linet}\\n\")"
   ]
  },
  {
   "cell_type": "code",
   "execution_count": 11,
   "metadata": {},
   "outputs": [
    {
     "name": "stdout",
     "output_type": "stream",
     "text": [
      "   27 voa_news.zhs.txt\n",
      "   27 voa_news.zht.txt\n",
      "   54 total\n"
     ]
    }
   ],
   "source": [
    "!wc -l $infile $outfile"
   ]
  },
  {
   "cell_type": "code",
   "execution_count": null,
   "metadata": {},
   "outputs": [],
   "source": []
  }
 ],
 "metadata": {
  "kernelspec": {
   "display_name": "Python 3",
   "language": "python",
   "name": "python3"
  },
  "language_info": {
   "codemirror_mode": {
    "name": "ipython",
    "version": 3
   },
   "file_extension": ".py",
   "mimetype": "text/x-python",
   "name": "python",
   "nbconvert_exporter": "python",
   "pygments_lexer": "ipython3",
   "version": "3.7.6"
  }
 },
 "nbformat": 4,
 "nbformat_minor": 4
}
